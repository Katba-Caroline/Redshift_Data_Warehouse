{
 "cells": [
  {
   "cell_type": "code",
   "execution_count": 18,
   "metadata": {},
   "outputs": [],
   "source": [
    "import pandas as pd\n",
    "import numpy as np\n",
    "import psycopg2\n",
    "import configparser\n",
    "import matplotlib.pyplot as plt"
   ]
  },
  {
   "cell_type": "code",
   "execution_count": 2,
   "metadata": {},
   "outputs": [
    {
     "name": "stdout",
     "output_type": "stream",
     "text": [
      "<connection object at 0x7f02cb0c8508; dsn: 'user=dwhuser password=xxx dbname=dwh host=dwhcluster.c3ve82ipzxru.us-east-2.redshift.amazonaws.com port=5439', closed: 0>\n"
     ]
    }
   ],
   "source": [
    "#Establish connection\n",
    "config = configparser.ConfigParser()\n",
    "config.read('dwh.cfg')\n",
    "\n",
    "conn = psycopg2.connect(\"host={} dbname={} user={} password={} port={}\".format(*config['CLUSTER'].values()))\n",
    "print(conn)"
   ]
  },
  {
   "cell_type": "code",
   "execution_count": 24,
   "metadata": {},
   "outputs": [],
   "source": [
    "sql = \"select * from songs;\"\n",
    "df_songs = pd.read_sql_query(sql, conn)"
   ]
  },
  {
   "cell_type": "code",
   "execution_count": 25,
   "metadata": {},
   "outputs": [
    {
     "data": {
      "text/html": [
       "<div>\n",
       "<style scoped>\n",
       "    .dataframe tbody tr th:only-of-type {\n",
       "        vertical-align: middle;\n",
       "    }\n",
       "\n",
       "    .dataframe tbody tr th {\n",
       "        vertical-align: top;\n",
       "    }\n",
       "\n",
       "    .dataframe thead th {\n",
       "        text-align: right;\n",
       "    }\n",
       "</style>\n",
       "<table border=\"1\" class=\"dataframe\">\n",
       "  <thead>\n",
       "    <tr style=\"text-align: right;\">\n",
       "      <th></th>\n",
       "      <th>song_id</th>\n",
       "      <th>title</th>\n",
       "      <th>artist_id</th>\n",
       "      <th>year</th>\n",
       "      <th>duration</th>\n",
       "    </tr>\n",
       "  </thead>\n",
       "  <tbody>\n",
       "    <tr>\n",
       "      <th>0</th>\n",
       "      <td>SOAACFC12A8C140567</td>\n",
       "      <td>Supernatural Pt. II</td>\n",
       "      <td>ARNHTE41187B99289A</td>\n",
       "      <td>0</td>\n",
       "      <td>343.09179</td>\n",
       "    </tr>\n",
       "    <tr>\n",
       "      <th>1</th>\n",
       "      <td>SOAAETA12A6D4FC626</td>\n",
       "      <td>Shine</td>\n",
       "      <td>ARQXK0B1187B9ACC97</td>\n",
       "      <td>2007</td>\n",
       "      <td>448.23465</td>\n",
       "    </tr>\n",
       "    <tr>\n",
       "      <th>2</th>\n",
       "      <td>SOAAKBE12A8C139075</td>\n",
       "      <td>Emília</td>\n",
       "      <td>ART1OPW1187FB3C5EF</td>\n",
       "      <td>0</td>\n",
       "      <td>159.71220</td>\n",
       "    </tr>\n",
       "    <tr>\n",
       "      <th>3</th>\n",
       "      <td>SOAAXUI12A6D4F9936</td>\n",
       "      <td>towards Osiris</td>\n",
       "      <td>ARTHSAE12131B4B70A</td>\n",
       "      <td>0</td>\n",
       "      <td>475.50649</td>\n",
       "    </tr>\n",
       "    <tr>\n",
       "      <th>4</th>\n",
       "      <td>SOAAZWW12A8AE460E9</td>\n",
       "      <td>Dream</td>\n",
       "      <td>AR7OWGF1187FB44CB8</td>\n",
       "      <td>2006</td>\n",
       "      <td>268.64281</td>\n",
       "    </tr>\n",
       "  </tbody>\n",
       "</table>\n",
       "</div>"
      ],
      "text/plain": [
       "              song_id                title           artist_id  year  \\\n",
       "0  SOAACFC12A8C140567  Supernatural Pt. II  ARNHTE41187B99289A     0   \n",
       "1  SOAAETA12A6D4FC626                Shine  ARQXK0B1187B9ACC97  2007   \n",
       "2  SOAAKBE12A8C139075               Emília  ART1OPW1187FB3C5EF     0   \n",
       "3  SOAAXUI12A6D4F9936       towards Osiris  ARTHSAE12131B4B70A     0   \n",
       "4  SOAAZWW12A8AE460E9                Dream  AR7OWGF1187FB44CB8  2006   \n",
       "\n",
       "    duration  \n",
       "0  343.09179  \n",
       "1  448.23465  \n",
       "2  159.71220  \n",
       "3  475.50649  \n",
       "4  268.64281  "
      ]
     },
     "execution_count": 25,
     "metadata": {},
     "output_type": "execute_result"
    }
   ],
   "source": [
    "df_songs.head()"
   ]
  },
  {
   "cell_type": "code",
   "execution_count": 9,
   "metadata": {},
   "outputs": [],
   "source": [
    "sql = \"select * from songplays;\"\n",
    "df_songplays = pd.read_sql_query(sql, conn)"
   ]
  },
  {
   "cell_type": "code",
   "execution_count": 21,
   "metadata": {},
   "outputs": [
    {
     "data": {
      "text/plain": [
       "Index(['songplay_id', 'start_time', 'user_id', 'level', 'song_id', 'artist_id',\n",
       "       'session_id', 'location', 'user_agent'],\n",
       "      dtype='object')"
      ]
     },
     "execution_count": 21,
     "metadata": {},
     "output_type": "execute_result"
    }
   ],
   "source": [
    "df_songplays.columns"
   ]
  },
  {
   "cell_type": "code",
   "execution_count": 26,
   "metadata": {},
   "outputs": [
    {
     "data": {
      "text/plain": [
       "paid    271\n",
       "free     62\n",
       "Name: level, dtype: int64"
      ]
     },
     "execution_count": 26,
     "metadata": {},
     "output_type": "execute_result"
    }
   ],
   "source": [
    "df_songplays['level'].value_counts()"
   ]
  },
  {
   "cell_type": "code",
   "execution_count": 20,
   "metadata": {},
   "outputs": [
    {
     "data": {
      "image/png": "[encoded data removed]",
      "text/plain": [
       "<matplotlib.figure.Figure at 0x7f02c18b0518>"
      ]
     },
     "metadata": {
      "needs_background": "light"
     },
     "output_type": "display_data"
    }
   ],
   "source": [
    "level = ('free', 'paid')\n",
    "y_pos = np.arange(len(level))\n",
    "level_count = df_songplays['level'].value_counts()\n",
    "\n",
    "plt.bar(y_pos, level_count, align='center', alpha=0.5)\n",
    "plt.xticks(y_pos, level)\n",
    "plt.ylabel('number of songs played')\n",
    "plt.title('Songplays per level')\n",
    "\n",
    "plt.show()"
   ]
  },
  {
   "cell_type": "code",
   "execution_count": 27,
   "metadata": {},
   "outputs": [
    {
     "data": {
      "text/plain": [
       "Index(['songplay_id', 'start_time', 'user_id', 'level', 'song_id', 'artist_id',\n",
       "       'session_id', 'location', 'user_agent'],\n",
       "      dtype='object')"
      ]
     },
     "execution_count": 27,
     "metadata": {},
     "output_type": "execute_result"
    }
   ],
   "source": [
    "df_songplays.columns"
   ]
  },
  {
   "cell_type": "code",
   "execution_count": 28,
   "metadata": {},
   "outputs": [
    {
     "data": {
      "text/plain": [
       "Index(['song_id', 'title', 'artist_id', 'year', 'duration'], dtype='object')"
      ]
     },
     "execution_count": 28,
     "metadata": {},
     "output_type": "execute_result"
    }
   ],
   "source": [
    "df_songs.columns"
   ]
  },
  {
   "cell_type": "code",
   "execution_count": 31,
   "metadata": {},
   "outputs": [
    {
     "data": {
      "text/html": [
       "<div>\n",
       "<style scoped>\n",
       "    .dataframe tbody tr th:only-of-type {\n",
       "        vertical-align: middle;\n",
       "    }\n",
       "\n",
       "    .dataframe tbody tr th {\n",
       "        vertical-align: top;\n",
       "    }\n",
       "\n",
       "    .dataframe thead th {\n",
       "        text-align: right;\n",
       "    }\n",
       "</style>\n",
       "<table border=\"1\" class=\"dataframe\">\n",
       "  <thead>\n",
       "    <tr style=\"text-align: right;\">\n",
       "      <th></th>\n",
       "      <th>songplay_id</th>\n",
       "      <th>start_time</th>\n",
       "      <th>user_id</th>\n",
       "      <th>level</th>\n",
       "      <th>song_id</th>\n",
       "      <th>title</th>\n",
       "      <th>artist_id</th>\n",
       "      <th>location</th>\n",
       "      <th>year</th>\n",
       "      <th>duration</th>\n",
       "    </tr>\n",
       "  </thead>\n",
       "  <tbody>\n",
       "    <tr>\n",
       "      <th>0</th>\n",
       "      <td>295</td>\n",
       "      <td>2018-11-02 17:31:45.796</td>\n",
       "      <td>10</td>\n",
       "      <td>free</td>\n",
       "      <td>SOHTKMO12AB01843B0</td>\n",
       "      <td>Catch You Baby (Steve Pitron &amp; Max Sanna Radio...</td>\n",
       "      <td>NaN</td>\n",
       "      <td>Washington-Arlington-Alexandria, DC-VA-MD-WV</td>\n",
       "      <td>0</td>\n",
       "      <td>181.21098</td>\n",
       "    </tr>\n",
       "    <tr>\n",
       "      <th>1</th>\n",
       "      <td>278</td>\n",
       "      <td>2018-11-03 17:59:01.796</td>\n",
       "      <td>15</td>\n",
       "      <td>paid</td>\n",
       "      <td>SOHTKMO12AB01843B0</td>\n",
       "      <td>Catch You Baby (Steve Pitron &amp; Max Sanna Radio...</td>\n",
       "      <td>NaN</td>\n",
       "      <td>Chicago-Naperville-Elgin, IL-IN-WI</td>\n",
       "      <td>0</td>\n",
       "      <td>181.21098</td>\n",
       "    </tr>\n",
       "    <tr>\n",
       "      <th>2</th>\n",
       "      <td>105</td>\n",
       "      <td>2018-11-07 00:43:00.796</td>\n",
       "      <td>97</td>\n",
       "      <td>paid</td>\n",
       "      <td>SOHTKMO12AB01843B0</td>\n",
       "      <td>Catch You Baby (Steve Pitron &amp; Max Sanna Radio...</td>\n",
       "      <td>NaN</td>\n",
       "      <td>Lansing-East Lansing, MI</td>\n",
       "      <td>0</td>\n",
       "      <td>181.21098</td>\n",
       "    </tr>\n",
       "    <tr>\n",
       "      <th>3</th>\n",
       "      <td>251</td>\n",
       "      <td>2018-11-20 15:50:01.796</td>\n",
       "      <td>100</td>\n",
       "      <td>free</td>\n",
       "      <td>SOHTKMO12AB01843B0</td>\n",
       "      <td>Catch You Baby (Steve Pitron &amp; Max Sanna Radio...</td>\n",
       "      <td>NaN</td>\n",
       "      <td>New York-Newark-Jersey City, NY-NJ-PA</td>\n",
       "      <td>0</td>\n",
       "      <td>181.21098</td>\n",
       "    </tr>\n",
       "    <tr>\n",
       "      <th>4</th>\n",
       "      <td>243</td>\n",
       "      <td>2018-11-14 12:56:28.796</td>\n",
       "      <td>62</td>\n",
       "      <td>free</td>\n",
       "      <td>SOHTKMO12AB01843B0</td>\n",
       "      <td>Catch You Baby (Steve Pitron &amp; Max Sanna Radio...</td>\n",
       "      <td>NaN</td>\n",
       "      <td>Houston-The Woodlands-Sugar Land, TX</td>\n",
       "      <td>0</td>\n",
       "      <td>181.21098</td>\n",
       "    </tr>\n",
       "  </tbody>\n",
       "</table>\n",
       "</div>"
      ],
      "text/plain": [
       "   songplay_id              start_time  user_id level             song_id  \\\n",
       "0          295 2018-11-02 17:31:45.796       10  free  SOHTKMO12AB01843B0   \n",
       "1          278 2018-11-03 17:59:01.796       15  paid  SOHTKMO12AB01843B0   \n",
       "2          105 2018-11-07 00:43:00.796       97  paid  SOHTKMO12AB01843B0   \n",
       "3          251 2018-11-20 15:50:01.796      100  free  SOHTKMO12AB01843B0   \n",
       "4          243 2018-11-14 12:56:28.796       62  free  SOHTKMO12AB01843B0   \n",
       "\n",
       "                                               title  artist_id  \\\n",
       "0  Catch You Baby (Steve Pitron & Max Sanna Radio...        NaN   \n",
       "1  Catch You Baby (Steve Pitron & Max Sanna Radio...        NaN   \n",
       "2  Catch You Baby (Steve Pitron & Max Sanna Radio...        NaN   \n",
       "3  Catch You Baby (Steve Pitron & Max Sanna Radio...        NaN   \n",
       "4  Catch You Baby (Steve Pitron & Max Sanna Radio...        NaN   \n",
       "\n",
       "                                       location  year   duration  \n",
       "0  Washington-Arlington-Alexandria, DC-VA-MD-WV     0  181.21098  \n",
       "1            Chicago-Naperville-Elgin, IL-IN-WI     0  181.21098  \n",
       "2                      Lansing-East Lansing, MI     0  181.21098  \n",
       "3         New York-Newark-Jersey City, NY-NJ-PA     0  181.21098  \n",
       "4          Houston-The Woodlands-Sugar Land, TX     0  181.21098  "
      ]
     },
     "execution_count": 31,
     "metadata": {},
     "output_type": "execute_result"
    }
   ],
   "source": [
    "df_merged_songs = (df_songplays.merge(df_songs, left_on='song_id', right_on='song_id')\n",
    "          .reindex(columns=['songplay_id', 'start_time', 'user_id', 'level', 'song_id', 'title', 'artist_id', 'location', 'year', 'duration']))\n",
    "# print(df_merged_songs)\n",
    "df_merged_songs.head()"
   ]
  },
  {
   "cell_type": "code",
   "execution_count": 32,
   "metadata": {},
   "outputs": [
    {
     "data": {
      "text/plain": [
       "Index(['songplay_id', 'start_time', 'user_id', 'level', 'song_id', 'title',\n",
       "       'artist_id', 'location', 'year', 'duration'],\n",
       "      dtype='object')"
      ]
     },
     "execution_count": 32,
     "metadata": {},
     "output_type": "execute_result"
    }
   ],
   "source": [
    "df_merged_songs.columns"
   ]
  },
  {
   "cell_type": "code",
   "execution_count": 67,
   "metadata": {},
   "outputs": [
    {
     "name": "stdout",
     "output_type": "stream",
     "text": [
      "Values per level column\n",
      "paid    271\n",
      "free     62\n",
      "Name: level, dtype: int64\n",
      "-------------------------\n",
      "Values per title column\n",
      "You're The One                                             37\n",
      "Catch You Baby (Steve Pitron & Max Sanna Radio Edit)        9\n",
      "I CAN'T GET STARTED                                         9\n",
      "Nothin' On You [feat. Bruno Mars] (Album Version)           8\n",
      "Hey Daddy (Daddy's Home)                                    6\n",
      "Up Up & Away                                                5\n",
      "Make Her Say                                                5\n",
      "Unwell (Album Version)                                      4\n",
      "Supermassive Black Hole (Album Version)                     4\n",
      "Mr. Jones                                                   4\n",
      "Pienso En Ti                                                3\n",
      "Fade To Black                                               3\n",
      "Born To Be Wild                                             3\n",
      "Let's Get It Started                                        3\n",
      "From The Ritz To The Rubble                                 3\n",
      "Given Up (Album Version)                                    3\n",
      "Rianna                                                      3\n",
      "If I Ain't Got You                                          3\n",
      "You Get What You Give                                       2\n",
      "Caught Up In You                                            2\n",
      "Don't Panic                                                 2\n",
      "Crazy                                                       2\n",
      "No Puedo Evitar (Pensar En Ti)                              2\n",
      "Monsoon                                                     2\n",
      "The Way I Loved You                                         2\n",
      "Lovefool                                                    2\n",
      "Girlfriend In A Coma                                        2\n",
      "VooDoo                                                      2\n",
      "The Boy With The Thorn In His Side                          2\n",
      "Angie (1993 Digital Remaster)                               2\n",
      "                                                           ..\n",
      "The Joker                                                   1\n",
      "Revolution Deathsquad (Album Version)                       1\n",
      "Ezio In Florence                                            1\n",
      "s.Ada.Licht                                                 1\n",
      "Sometime Around Midnight                                    1\n",
      "Valerie                                                     1\n",
      "Loneliness                                                  1\n",
      "Kids In America                                             1\n",
      "Mise En Bouche                                              1\n",
      "Two Hearts                                                  1\n",
      "Punk Rock Girl                                              1\n",
      "Sorrow's Army                                               1\n",
      "Shimmy Shimmy Quarter Turn (Take It Back To Square One)     1\n",
      "Love My Shake                                               1\n",
      "Por quererte                                                1\n",
      "Missing (Live in Europe)                                    1\n",
      "Drunk Girls                                                 1\n",
      "Ring My Bell                                                1\n",
      "Our Filmscore                                               1\n",
      "Timebomb (LP Version)                                       1\n",
      "Wish I Didn't Miss You                                      1\n",
      "Enganchate Conmigo                                          1\n",
      "Dragostea din tin (ma-ya-hi)                                1\n",
      "Possibilities (The Face Of Love Album Version)              1\n",
      "I'm Not A Loser                                             1\n",
      "Fortunate Fool                                              1\n",
      "O Xote Das Meninas/Asa Branca/Hino A Sao Jose               1\n",
      "Almeno Tu Nell'Universo                                     1\n",
      "Fighters (feat. Matthew Santos) (Amended Album Version)     1\n",
      "Rebirthing (Album Version)                                  1\n",
      "Name: title, Length: 216, dtype: int64\n",
      "-------------------------\n",
      "Values per location column\n",
      "San Francisco-Oakland-Hayward, CA                 42\n",
      "Lansing-East Lansing, MI                          32\n",
      "Portland-South Portland, ME                       31\n",
      "Waterloo-Cedar Falls, IA                          21\n",
      "Tampa-St. Petersburg-Clearwater, FL               18\n",
      "Sacramento--Roseville--Arden-Arcade, CA           17\n",
      "Atlanta-Sandy Springs-Roswell, GA                 17\n",
      "Chicago-Naperville-Elgin, IL-IN-WI                15\n",
      "Lake Havasu City-Kingman, AZ                      13\n",
      "Janesville-Beloit, WI                             13\n",
      "New York-Newark-Jersey City, NY-NJ-PA             11\n",
      "Marinette, WI-MI                                  10\n",
      "San Jose-Sunnyvale-Santa Clara, CA                 9\n",
      "Augusta-Richmond County, GA-SC                     9\n",
      "Winston-Salem, NC                                  8\n",
      "Red Bluff, CA                                      7\n",
      "Birmingham-Hoover, AL                              6\n",
      "New Haven-Milford, CT                              5\n",
      "Houston-The Woodlands-Sugar Land, TX               4\n",
      "Phoenix-Mesa-Scottsdale, AZ                        3\n",
      "Philadelphia-Camden-Wilmington, PA-NJ-DE-MD        3\n",
      "San Antonio-New Braunfels, TX                      3\n",
      "Plymouth, IN                                       2\n",
      "Lubbock, TX                                        2\n",
      "Klamath Falls, OR                                  2\n",
      "Nashville-Davidson--Murfreesboro--Franklin, TN     2\n",
      "New Orleans-Metairie, LA                           2\n",
      "Columbia, SC                                       2\n",
      "Eugene, OR                                         2\n",
      "La Crosse-Onalaska, WI-MN                          2\n",
      "Detroit-Warren-Dearborn, MI                        2\n",
      "Indianapolis-Carmel-Anderson, IN                   2\n",
      "Palestine, TX                                      2\n",
      "Harrisburg-Carlisle, PA                            2\n",
      "Santa Rosa, CA                                     1\n",
      "St. Louis, MO-IL                                   1\n",
      "Minneapolis-St. Paul-Bloomington, MN-WI            1\n",
      "Raleigh, NC                                        1\n",
      "Las Cruces, NM                                     1\n",
      "Washington-Arlington-Alexandria, DC-VA-MD-WV       1\n",
      "Portland-Vancouver-Hillsboro, OR-WA                1\n",
      "Dallas-Fort Worth-Arlington, TX                    1\n",
      "Pensacola-Ferry Pass-Brent, FL                     1\n",
      "Yuba City, CA                                      1\n",
      "Ogden-Clearfield, UT                               1\n",
      "Oxnard-Thousand Oaks-Ventura, CA                   1\n",
      "Name: location, dtype: int64\n",
      "-------------------------\n",
      "Values per year column\n",
      "0       76\n",
      "1990    38\n",
      "2009    26\n",
      "2010    18\n",
      "2007    18\n",
      "2003    14\n",
      "2008    14\n",
      "2004    13\n",
      "2006    10\n",
      "2002    10\n",
      "1997     8\n",
      "1996     7\n",
      "2005     7\n",
      "2000     7\n",
      "1991     6\n",
      "1999     5\n",
      "1993     4\n",
      "1992     4\n",
      "1998     4\n",
      "2001     4\n",
      "1968     4\n",
      "1982     4\n",
      "1995     3\n",
      "1988     3\n",
      "1986     3\n",
      "1985     3\n",
      "1984     3\n",
      "1994     3\n",
      "1980     2\n",
      "1989     2\n",
      "1987     2\n",
      "1981     1\n",
      "1979     1\n",
      "1978     1\n",
      "1974     1\n",
      "1973     1\n",
      "1972     1\n",
      "1957     1\n",
      "1983     1\n",
      "Name: year, dtype: int64\n",
      "-------------------------\n"
     ]
    }
   ],
   "source": [
    "columns = [ 'level', 'title', 'location', 'year']\n",
    "for X in columns:\n",
    "    print('Values per {} column'.format(X))\n",
    "    print(df_merged_songs[X].value_counts())\n",
    "    print('-------------------------')"
   ]
  },
  {
   "cell_type": "code",
   "execution_count": 68,
   "metadata": {},
   "outputs": [
    {
     "data": {
      "image/png": "[encoded data removed]",
      "text/plain": [
       "<matplotlib.figure.Figure at 0x7f02c182f198>"
      ]
     },
     "metadata": {
      "needs_background": "light"
     },
     "output_type": "display_data"
    }
   ],
   "source": [
    "#based on df_merged_songs['title'].value_counts()\n",
    "top_5_songs= {'You\\'re The One' : 37,\n",
    "'Catch You Baby (Steve Pitron & Max Sanna Radio Edit)': 9,\n",
    "'I CAN\\'T GET STARTED': 9,\n",
    "'Nothin\\' On You [feat. Bruno Mars] (Album Version)': 8,\n",
    "'Hey Daddy (Daddy\\'s Home)':6}\n",
    "\n",
    "plt.bar(range(len(top_5_songs)), list(top_5_songs.values()), align='center')\n",
    "plt.xticks(range(len(top_5_songs)), list(top_5_songs.keys()), rotation=90)\n",
    "plt.title('Top 5 Popular Songs')\n",
    "plt.show()"
   ]
  },
  {
   "cell_type": "code",
   "execution_count": 69,
   "metadata": {},
   "outputs": [
    {
     "data": {
      "image/png": "[encoded data removed]",
      "text/plain": [
       "<matplotlib.figure.Figure at 0x7f02c185a828>"
      ]
     },
     "metadata": {
      "needs_background": "light"
     },
     "output_type": "display_data"
    }
   ],
   "source": [
    "#based on df_merged_songs['location'].value_counts()\n",
    "top_5_locations= {'San Francisco-Oakland-Hayward, CA': 42,\n",
    "'Lansing-East Lansing, MI':32,\n",
    "'Portland-South Portland, ME':31,\n",
    "'Waterloo-Cedar Falls, IA':21,\n",
    "'Tampa-St. Petersburg-Clearwater, FL':18}\n",
    "\n",
    "plt.bar(range(len(top_5_locations)), list(top_5_locations.values()), align='center')\n",
    "plt.xticks(range(len(top_5_locations)), list(top_5_locations.keys()), rotation=90)\n",
    "plt.title('Top 5 locations')\n",
    "plt.show()"
   ]
  },
  {
   "cell_type": "code",
   "execution_count": null,
   "metadata": {},
   "outputs": [],
   "source": []
  },
  {
   "cell_type": "code",
   "execution_count": null,
   "metadata": {},
   "outputs": [],
   "source": []
  },
  {
   "cell_type": "code",
   "execution_count": null,
   "metadata": {},
   "outputs": [],
   "source": []
  }
 ],
 "metadata": {
  "kernelspec": {
   "display_name": "Python 3",
   "language": "python",
   "name": "python3"
  },
  "language_info": {
   "codemirror_mode": {
    "name": "ipython",
    "version": 3
   },
   "file_extension": ".py",
   "mimetype": "text/x-python",
   "name": "python",
   "nbconvert_exporter": "python",
   "pygments_lexer": "ipython3",
   "version": "3.6.3"
  }
 },
 "nbformat": 4,
 "nbformat_minor": 4
}
